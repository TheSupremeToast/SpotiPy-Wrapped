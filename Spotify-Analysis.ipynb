{
 "cells": [
  {
   "cell_type": "markdown",
   "id": "7c4ad08f",
   "metadata": {},
   "source": [
    "## SpotiPy-Wrapped\n",
    "#### By: Patrick D\n",
    "### Usage Instructions:\n",
    "1) Request your personal data from Spotify:  spotify.com -> my profile -> privacy -> request personal data -> wait a few days  \n",
    "2) Unzip files into the input folder within this directory  \n",
    "3) Change the 'directory' variable to point to your folder  \n",
    "4) Run the notebook  \n",
    "5) Change input variables of functions to get more specific information  "
   ]
  },
  {
   "cell_type": "code",
   "execution_count": null,
   "id": "60e1f400",
   "metadata": {
    "ExecuteTime": {
     "end_time": "2021-11-25T23:10:51.624490Z",
     "start_time": "2021-11-25T23:10:51.100722Z"
    }
   },
   "outputs": [],
   "source": [
    "import pandas as pd\n",
    "import numpy as np\n",
    "from matplotlib import pyplot as plt\n",
    "import os\n",
    "import time\n",
    "import datetime\n",
    "\n",
    "import cleaner\n",
    "import helper\n",
    "# Jupyter theming options: \n",
    "# from jupyterthemes import jtplot\n",
    "# jtplot.style()"
   ]
  },
  {
   "cell_type": "markdown",
   "id": "1569c115",
   "metadata": {},
   "source": [
    "### Data Cleaning"
   ]
  },
  {
   "cell_type": "code",
   "execution_count": null,
   "id": "693cc953",
   "metadata": {},
   "outputs": [],
   "source": [
    "# Import cleaner.py functions\n",
    "from cleaner import *\n",
    "# Import helper.py functions\n",
    "from helper import *"
   ]
  },
  {
   "cell_type": "code",
   "execution_count": null,
   "id": "264e1a6d",
   "metadata": {
    "scrolled": true
   },
   "outputs": [],
   "source": [
    "# create listening history dataframe from desired directory within input folder\n",
    "directory = 'input/03-19-22' # change this to '/input/your-directory-name'\n",
    "his = read_history(directory)\n",
    "\n",
    "# uncomment this if you want your dataframe output as a csv (change end of directory to your desired one)\n",
    "# his.to_csv('~/Documents/Python/Spotify-Analysis/input/12-06-21/his.csv', index = False)\n",
    "\n",
    "his.tail(5)"
   ]
  },
  {
   "cell_type": "code",
   "execution_count": null,
   "id": "5b17f5e7",
   "metadata": {
    "ExecuteTime": {
     "end_time": "2021-11-25T23:10:00.602737Z",
     "start_time": "2021-11-25T23:10:00.543978Z"
    },
    "scrolled": false
   },
   "outputs": [],
   "source": [
    "skipped = sort_skipped(his)\n",
    "unskipped = sort_unskipped(his)\n",
    "\n",
    "tracks = get_tracks(unskipped)\n",
    "artists = get_artists(unskipped)"
   ]
  },
  {
   "cell_type": "markdown",
   "id": "1ca0a5b7",
   "metadata": {},
   "source": [
    "### Graphs"
   ]
  },
  {
   "cell_type": "code",
   "execution_count": null,
   "id": "487284fe",
   "metadata": {
    "ExecuteTime": {
     "end_time": "2021-11-25T23:10:56.082744Z",
     "start_time": "2021-11-25T23:10:55.746202Z"
    },
    "scrolled": false
   },
   "outputs": [],
   "source": [
    "plt.rcParams['figure.figsize'] = [20, 8]\n",
    "plt.plot(tracks.head(100), 'o')\n",
    "plt.xticks(rotation = 90)\n",
    "plt.title('Most Played Tracks')\n",
    "plt.ylabel('Plays')\n",
    "plt.show()"
   ]
  },
  {
   "cell_type": "code",
   "execution_count": null,
   "id": "65628c12",
   "metadata": {
    "ExecuteTime": {
     "end_time": "2021-11-25T23:11:03.068835Z",
     "start_time": "2021-11-25T23:11:02.769937Z"
    },
    "scrolled": false
   },
   "outputs": [],
   "source": [
    "plt.rcParams['figure.figsize'] = [20, 8]\n",
    "plt.plot(artists.head(100), 'o')\n",
    "plt.xticks(rotation = 90)\n",
    "plt.title('Most Played Artists')\n",
    "plt.ylabel('Plays')\n",
    "plt.show()"
   ]
  },
  {
   "cell_type": "code",
   "execution_count": null,
   "id": "25e72ebf",
   "metadata": {
    "ExecuteTime": {
     "end_time": "2021-11-25T23:11:05.411649Z",
     "start_time": "2021-11-25T23:11:05.077395Z"
    },
    "scrolled": false
   },
   "outputs": [],
   "source": [
    "plotArtist(\"The Strokes\", 100)"
   ]
  },
  {
   "cell_type": "code",
   "execution_count": null,
   "id": "0d6dda3b",
   "metadata": {
    "ExecuteTime": {
     "end_time": "2021-11-25T23:11:06.963654Z",
     "start_time": "2021-11-25T23:11:06.731644Z"
    }
   },
   "outputs": [],
   "source": [
    "skipped_tracks = skipped['trackName'].value_counts()\n",
    "plt.rcParams['figure.figsize'] = [20, 8]\n",
    "plt.plot(skipped_tracks.head(100), 'o')\n",
    "plt.xticks(rotation = 90)\n",
    "plt.title('Most Skipped Songs')\n",
    "plt.ylabel('Skips')\n",
    "plt.show()"
   ]
  },
  {
   "cell_type": "code",
   "execution_count": null,
   "id": "ee910538",
   "metadata": {
    "ExecuteTime": {
     "end_time": "2021-11-25T23:11:08.607250Z",
     "start_time": "2021-11-25T23:11:08.296686Z"
    }
   },
   "outputs": [],
   "source": [
    "skipped_artists = skipped['artistName'].value_counts()\n",
    "plt.rcParams['figure.figsize'] = [20, 8]\n",
    "plt.plot(skipped_artists.head(100), 'o')\n",
    "plt.xticks(rotation = 90)\n",
    "plt.title('Most Skipped Artists')\n",
    "plt.ylabel('Skips')\n",
    "plt.show()"
   ]
  },
  {
   "cell_type": "code",
   "execution_count": null,
   "id": "828a919c",
   "metadata": {
    "scrolled": false
   },
   "outputs": [],
   "source": [
    "avgTrackLength()"
   ]
  },
  {
   "cell_type": "markdown",
   "id": "eed1ac6b",
   "metadata": {},
   "source": [
    "### Other Information"
   ]
  },
  {
   "cell_type": "code",
   "execution_count": null,
   "id": "13958e68",
   "metadata": {
    "ExecuteTime": {
     "end_time": "2021-11-25T23:10:01.991727Z",
     "start_time": "2021-11-25T23:10:01.874017Z"
    }
   },
   "outputs": [],
   "source": [
    "# change n to find your n top songs\n",
    "n = 10\n",
    "print(topSongPlays(n))"
   ]
  },
  {
   "cell_type": "code",
   "execution_count": null,
   "id": "e0847345",
   "metadata": {},
   "outputs": [],
   "source": [
    "# Get playtime\n",
    "t = playtime(unskipped)"
   ]
  },
  {
   "cell_type": "markdown",
   "id": "76644316",
   "metadata": {},
   "source": [
    "### Artist/Song specific information"
   ]
  },
  {
   "cell_type": "code",
   "execution_count": null,
   "id": "57d10a97",
   "metadata": {
    "ExecuteTime": {
     "end_time": "2021-11-25T23:10:01.839654Z",
     "start_time": "2021-11-25T23:10:01.801265Z"
    }
   },
   "outputs": [],
   "source": [
    "artist = 'The Strokes' # change this to an artist of your choice (case sensitive)\n",
    "temp = artistPlayCount(artist)"
   ]
  },
  {
   "cell_type": "code",
   "execution_count": null,
   "id": "b939b221",
   "metadata": {
    "ExecuteTime": {
     "end_time": "2021-11-25T23:10:01.862840Z",
     "start_time": "2021-11-25T23:10:01.841354Z"
    },
    "scrolled": true
   },
   "outputs": [],
   "source": [
    "track = \"We're Good\" # change this to a song name of your choice (case sensitive)\n",
    "temp = songPlayCount(track)"
   ]
  },
  {
   "cell_type": "markdown",
   "id": "928ac22c",
   "metadata": {},
   "source": [
    "### Timeframe specific information"
   ]
  },
  {
   "cell_type": "code",
   "execution_count": null,
   "id": "f98ebee5",
   "metadata": {},
   "outputs": [],
   "source": [
    "# Plot top artists since input date\n",
    "# format: 'year-month-day'\n",
    "#         'xxxx-xx-xx'\n",
    "timeframe = '2022-01-01' # change this\n",
    "topArtistsTimeframe(timeframe)"
   ]
  },
  {
   "cell_type": "code",
   "execution_count": null,
   "id": "c3315125",
   "metadata": {},
   "outputs": [],
   "source": [
    "# Plot top songs since input date\n",
    "# format: 'year-month-day'\n",
    "#         'xxxx-xx-xx'\n",
    "timeframe_lower = '2021-01-01' # change this - lower bound\n",
    "timeframe_upper = '2022-03-01' # change this - upper bound\n",
    "topArtistsTimeframeBounded(timeframe_lower, timeframe_upper)"
   ]
  },
  {
   "cell_type": "code",
   "execution_count": null,
   "id": "b871df92",
   "metadata": {},
   "outputs": [],
   "source": [
    "# Plot top songs since input date\n",
    "# format: 'year-month-day'\n",
    "#         'xxxx-xx-xx'\n",
    "timeframe = '2022-01-01' # change this\n",
    "topSongsTimeframe(timeframe)"
   ]
  },
  {
   "cell_type": "code",
   "execution_count": null,
   "id": "11d2171c",
   "metadata": {
    "scrolled": false
   },
   "outputs": [],
   "source": [
    "# Plot top songs since input date\n",
    "# format: 'year-month-day'\n",
    "#         'xxxx-xx-xx'\n",
    "timeframe_lower = '2021-01-01' # change this - lower bound\n",
    "timeframe_upper = '2022-03-16' # change this - upper bound\n",
    "topSongsTimeframeBounded(timeframe_lower, timeframe_upper)"
   ]
  },
  {
   "cell_type": "code",
   "execution_count": null,
   "id": "a425027e",
   "metadata": {},
   "outputs": [],
   "source": [
    "# Get listening time for a given month\n",
    "# inputs - month number and year\n",
    "month = 2 \n",
    "year = 2022 \n",
    "listeningTimeMonth(month, year)"
   ]
  },
  {
   "cell_type": "code",
   "execution_count": null,
   "id": "ac4ae158",
   "metadata": {},
   "outputs": [],
   "source": [
    "# Get listening time for a given artist in hours\n",
    "# Change artist name\n",
    "artist = 'Cage The Elephant'\n",
    "listeningTimeArtist(artist)"
   ]
  },
  {
   "cell_type": "code",
   "execution_count": null,
   "id": "282d89ea",
   "metadata": {},
   "outputs": [],
   "source": []
  }
 ],
 "metadata": {
  "kernelspec": {
   "display_name": "Python 3 (ipykernel)",
   "language": "python",
   "name": "python3"
  },
  "language_info": {
   "codemirror_mode": {
    "name": "ipython",
    "version": 3
   },
   "file_extension": ".py",
   "mimetype": "text/x-python",
   "name": "python",
   "nbconvert_exporter": "python",
   "pygments_lexer": "ipython3",
   "version": "3.9.7"
  }
 },
 "nbformat": 4,
 "nbformat_minor": 5
}
